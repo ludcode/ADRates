{
 "cells": [
  {
   "cell_type": "code",
   "execution_count": 2,
   "metadata": {},
   "outputs": [],
   "source": [
    "import numpy as np\n",
    "import copy\n",
    "import pandas as pd\n",
    "import matplotlib.pyplot as plt\n",
    "import datetime as dt\n",
    "#from xbbg import blp # not necessary if you use hardcoded market data / proprietary API / non-BBG market data"
   ]
  },
  {
   "cell_type": "code",
   "execution_count": null,
   "metadata": {},
   "outputs": [],
   "source": [
    "# AD specific\n",
    "\n",
    "import jax.numpy as jnp\n",
    "from jax import grad"
   ]
  },
  {
   "cell_type": "code",
   "execution_count": null,
   "metadata": {},
   "outputs": [],
   "source": [
    "from cavour.utils import *\n",
    "from cavour.trades.rates import *\n",
    "from cavour.trades.rates.ois import OIS\n",
    "from cavour.trades.rates.ois_curve import OISCurve\n",
    "from cavour.market.curves.interpolator import *"
   ]
  },
  {
   "cell_type": "code",
   "execution_count": 5,
   "metadata": {},
   "outputs": [],
   "source": [
    "value_dt = Date(30, 4, 2024)\n",
    "value_dt_datetime = dt.date(2024, 4, 30)"
   ]
  },
  {
   "cell_type": "markdown",
   "metadata": {},
   "source": [
    "## Build Model"
   ]
  },
  {
   "cell_type": "code",
   "execution_count": 6,
   "metadata": {},
   "outputs": [],
   "source": [
    "# Extract data via BBG. #NOTE: you need to be logged into Bloomberg to run this cell\n",
    "\n",
    "# tickers =[\"SONIO/N Index\", \"BPSWS1Z BGN Curncy\",\"BPSWS2Z BGN Curncy\",\n",
    "#          \"BPSWSA BGN Curncy\",\"BPSWSB BGN Curncy\",\"BPSWSC BGN Curncy\",\"BPSWSD BGN Curncy\",\"BPSWSE BGN Curncy\",\n",
    "#          \"BPSWSF BGN Curncy\",\"BPSWSG BGN Curncy\",\"BPSWSH BGN Curncy\",\"BPSWSI BGN Curncy\",\"BPSWSJ BGN Curncy\",\"BPSWSK BGN Curncy\",\n",
    "#          \"BPSWS1 BGN Curncy\",\"BPSWS1F BGN Curncy\",\"BPSWS2 BGN Curncy\",\"BPSWS3 BGN Curncy\",\"BPSWS4 BGN Curncy\",\"BPSWS5 BGN Curncy\",\n",
    "#          \"BPSWS6 BGN Curncy\",\"BPSWS7 BGN Curncy\",\"BPSWS8 BGN Curncy\",\"BPSWS9 BGN Curncy\",\"BPSWS10 BGN Curncy\",\"BPSWS12 BGN Curncy\",\n",
    "#          \"BPSWS15 BGN Curncy\",\"BPSWS20 BGN Curncy\",\"BPSWS25 BGN Curncy\",\"BPSWS30 BGN Curncy\",\"BPSWS40 BGN Curncy\",\"BPSWS50 BGN Curncy\"]\n",
    "\n",
    "# px_dict = {}\n",
    "# px_list = []\n",
    "# for ticker in tickers:\n",
    "#     px = blp.bdh(ticker,\"px_last\",value_dt_datetime,value_dt_datetime)[ticker]['px_last'].iloc[0]\n",
    "#     px_dict[ticker] = px\n",
    "#     px_list.append(px)"
   ]
  },
  {
   "cell_type": "code",
   "execution_count": 7,
   "metadata": {},
   "outputs": [],
   "source": [
    "# Hardcoded data for April 30th 2024. Uncomment to use / override BBG data\n",
    "\n",
    "px_list = [5.1998,\n",
    " 5.2014,\n",
    " 5.2003,\n",
    " 5.2027,\n",
    " 5.2023,\n",
    " 5.19281,\n",
    " 5.1656,\n",
    " 5.1482,\n",
    " 5.1342,\n",
    " 5.1173,\n",
    " 5.1013,\n",
    " 5.0862,\n",
    " 5.0701,\n",
    " 5.054,\n",
    " 5.0394,\n",
    " 4.8707,\n",
    " 4.75483,\n",
    " 4.532,\n",
    " 4.3628,\n",
    " 4.2428,\n",
    " 4.16225,\n",
    " 4.1132,\n",
    " 4.08505,\n",
    " 4.0762,\n",
    " 4.078,\n",
    " 4.0961,\n",
    " 4.12195,\n",
    " 4.1315,\n",
    " 4.113,\n",
    " 4.07724,\n",
    " 3.984,\n",
    " 3.88]"
   ]
  },
  {
   "cell_type": "code",
   "execution_count": 8,
   "metadata": {},
   "outputs": [],
   "source": [
    "spot_days = 0\n",
    "settle_dt = value_dt.add_weekdays(spot_days)\n",
    "\n",
    "swaps = []\n",
    "swap_type = SwapTypes.PAY\n",
    "fixed_dcc_type = DayCountTypes.ACT_365F\n",
    "fixed_freq_type = FrequencyTypes.ANNUAL\n",
    "bus_day_type = BusDayAdjustTypes.MODIFIED_FOLLOWING\n",
    "float_freq_type = FrequencyTypes.ANNUAL\n",
    "float_dc_type = DayCountTypes.ACT_365F\n",
    "\n",
    "tenor_list = [\"1D\",\"1W\",\"2W\",\"1M\",\"2M\",\"3M\",\"4M\",\"5M\",\"6M\",\"7M\",\"8M\",\"9M\",\"10M\",\"11M\",\"1Y\",\"18M\",\"2Y\",\"3Y\",\"4Y\",\"5Y\",\"6Y\",\"7Y\",\"8Y\",\"9Y\",\"10Y\",\"12Y\",\"15Y\",\"20Y\",\"25Y\",\"30Y\",\"40Y\",\"50Y\"]\n",
    "\n",
    "for tenor, px in zip(tenor_list, px_list):\n",
    "    swap = OIS(effective_dt= settle_dt,\n",
    "               term_dt_or_tenor= tenor,\n",
    "               fixed_leg_type= swap_type,\n",
    "               fixed_coupon= px / 100,\n",
    "               fixed_freq_type= fixed_freq_type,\n",
    "               fixed_dc_type=fixed_dcc_type,\n",
    "               bd_type= bus_day_type,\n",
    "               float_freq_type=float_freq_type,\n",
    "               float_dc_type=float_dc_type\n",
    "               )\n",
    "    swaps.append(swap)\n"
   ]
  },
  {
   "cell_type": "code",
   "execution_count": 9,
   "metadata": {},
   "outputs": [],
   "source": [
    "oisCurveObj = OISCurve(\n",
    "    value_dt=value_dt, \n",
    "    ois_swaps= swaps, \n",
    "    interp_type= InterpTypes.LINEAR_ZERO_RATES,\n",
    "    check_refit=False)"
   ]
  },
  {
   "cell_type": "markdown",
   "metadata": {},
   "source": [
    "### Round Trip"
   ]
  },
  {
   "cell_type": "code",
   "execution_count": 10,
   "metadata": {},
   "outputs": [],
   "source": [
    "# Round Trip \n",
    "\n",
    "round_trip = {}\n",
    "\n",
    "for tenor, px in zip(tenor_list, px_list):\n",
    "    swap = OIS(effective_dt= settle_dt,\n",
    "               term_dt_or_tenor= tenor,\n",
    "               fixed_leg_type= swap_type,\n",
    "               fixed_coupon= px,\n",
    "               fixed_freq_type= fixed_freq_type,\n",
    "               fixed_dc_type=fixed_dcc_type,\n",
    "               bd_type= bus_day_type,\n",
    "               float_freq_type=float_freq_type,\n",
    "               float_dc_type=float_dc_type\n",
    "               )\n",
    "    par_rate = swap.swap_rate(value_dt, oisCurveObj)*10000\n",
    "    round_trip[tenor] = [px,par_rate,(par_rate-px)*100]"
   ]
  },
  {
   "cell_type": "code",
   "execution_count": 11,
   "metadata": {},
   "outputs": [
    {
     "data": {
      "text/html": [
       "<div>\n",
       "<style scoped>\n",
       "    .dataframe tbody tr th:only-of-type {\n",
       "        vertical-align: middle;\n",
       "    }\n",
       "\n",
       "    .dataframe tbody tr th {\n",
       "        vertical-align: top;\n",
       "    }\n",
       "\n",
       "    .dataframe thead th {\n",
       "        text-align: right;\n",
       "    }\n",
       "</style>\n",
       "<table border=\"1\" class=\"dataframe\">\n",
       "  <thead>\n",
       "    <tr style=\"text-align: right;\">\n",
       "      <th></th>\n",
       "      <th>Market Rate</th>\n",
       "      <th>Par Rate</th>\n",
       "      <th>Difference in bps</th>\n",
       "    </tr>\n",
       "  </thead>\n",
       "  <tbody>\n",
       "    <tr>\n",
       "      <th>1D</th>\n",
       "      <td>5.19980</td>\n",
       "      <td>5.199800</td>\n",
       "      <td>-0.00</td>\n",
       "    </tr>\n",
       "    <tr>\n",
       "      <th>1W</th>\n",
       "      <td>5.20140</td>\n",
       "      <td>5.201400</td>\n",
       "      <td>0.00</td>\n",
       "    </tr>\n",
       "    <tr>\n",
       "      <th>2W</th>\n",
       "      <td>5.20030</td>\n",
       "      <td>5.200300</td>\n",
       "      <td>0.00</td>\n",
       "    </tr>\n",
       "    <tr>\n",
       "      <th>1M</th>\n",
       "      <td>5.20270</td>\n",
       "      <td>5.202700</td>\n",
       "      <td>-0.00</td>\n",
       "    </tr>\n",
       "    <tr>\n",
       "      <th>2M</th>\n",
       "      <td>5.20230</td>\n",
       "      <td>5.202300</td>\n",
       "      <td>0.00</td>\n",
       "    </tr>\n",
       "    <tr>\n",
       "      <th>3M</th>\n",
       "      <td>5.19281</td>\n",
       "      <td>5.192810</td>\n",
       "      <td>0.00</td>\n",
       "    </tr>\n",
       "    <tr>\n",
       "      <th>4M</th>\n",
       "      <td>5.16560</td>\n",
       "      <td>5.165600</td>\n",
       "      <td>-0.00</td>\n",
       "    </tr>\n",
       "    <tr>\n",
       "      <th>5M</th>\n",
       "      <td>5.14820</td>\n",
       "      <td>5.148200</td>\n",
       "      <td>0.00</td>\n",
       "    </tr>\n",
       "    <tr>\n",
       "      <th>6M</th>\n",
       "      <td>5.13420</td>\n",
       "      <td>5.134200</td>\n",
       "      <td>0.00</td>\n",
       "    </tr>\n",
       "    <tr>\n",
       "      <th>7M</th>\n",
       "      <td>5.11730</td>\n",
       "      <td>5.117300</td>\n",
       "      <td>-0.00</td>\n",
       "    </tr>\n",
       "    <tr>\n",
       "      <th>8M</th>\n",
       "      <td>5.10130</td>\n",
       "      <td>5.101300</td>\n",
       "      <td>0.00</td>\n",
       "    </tr>\n",
       "    <tr>\n",
       "      <th>9M</th>\n",
       "      <td>5.08620</td>\n",
       "      <td>5.086200</td>\n",
       "      <td>-0.00</td>\n",
       "    </tr>\n",
       "    <tr>\n",
       "      <th>10M</th>\n",
       "      <td>5.07010</td>\n",
       "      <td>5.070100</td>\n",
       "      <td>0.00</td>\n",
       "    </tr>\n",
       "    <tr>\n",
       "      <th>11M</th>\n",
       "      <td>5.05400</td>\n",
       "      <td>5.054000</td>\n",
       "      <td>0.00</td>\n",
       "    </tr>\n",
       "    <tr>\n",
       "      <th>1Y</th>\n",
       "      <td>5.03940</td>\n",
       "      <td>5.039400</td>\n",
       "      <td>0.00</td>\n",
       "    </tr>\n",
       "    <tr>\n",
       "      <th>18M</th>\n",
       "      <td>4.87070</td>\n",
       "      <td>4.870700</td>\n",
       "      <td>0.00</td>\n",
       "    </tr>\n",
       "    <tr>\n",
       "      <th>2Y</th>\n",
       "      <td>4.75483</td>\n",
       "      <td>4.754830</td>\n",
       "      <td>0.00</td>\n",
       "    </tr>\n",
       "    <tr>\n",
       "      <th>3Y</th>\n",
       "      <td>4.53200</td>\n",
       "      <td>4.532000</td>\n",
       "      <td>-0.00</td>\n",
       "    </tr>\n",
       "    <tr>\n",
       "      <th>4Y</th>\n",
       "      <td>4.36280</td>\n",
       "      <td>4.362800</td>\n",
       "      <td>-0.00</td>\n",
       "    </tr>\n",
       "    <tr>\n",
       "      <th>5Y</th>\n",
       "      <td>4.24280</td>\n",
       "      <td>4.242800</td>\n",
       "      <td>-0.00</td>\n",
       "    </tr>\n",
       "    <tr>\n",
       "      <th>6Y</th>\n",
       "      <td>4.16225</td>\n",
       "      <td>4.162250</td>\n",
       "      <td>-0.00</td>\n",
       "    </tr>\n",
       "    <tr>\n",
       "      <th>7Y</th>\n",
       "      <td>4.11320</td>\n",
       "      <td>4.113200</td>\n",
       "      <td>-0.00</td>\n",
       "    </tr>\n",
       "    <tr>\n",
       "      <th>8Y</th>\n",
       "      <td>4.08505</td>\n",
       "      <td>4.085050</td>\n",
       "      <td>-0.00</td>\n",
       "    </tr>\n",
       "    <tr>\n",
       "      <th>9Y</th>\n",
       "      <td>4.07620</td>\n",
       "      <td>4.076200</td>\n",
       "      <td>-0.00</td>\n",
       "    </tr>\n",
       "    <tr>\n",
       "      <th>10Y</th>\n",
       "      <td>4.07800</td>\n",
       "      <td>4.078000</td>\n",
       "      <td>-0.00</td>\n",
       "    </tr>\n",
       "    <tr>\n",
       "      <th>12Y</th>\n",
       "      <td>4.09610</td>\n",
       "      <td>4.095323</td>\n",
       "      <td>-0.08</td>\n",
       "    </tr>\n",
       "    <tr>\n",
       "      <th>15Y</th>\n",
       "      <td>4.12195</td>\n",
       "      <td>4.120098</td>\n",
       "      <td>-0.19</td>\n",
       "    </tr>\n",
       "    <tr>\n",
       "      <th>20Y</th>\n",
       "      <td>4.13150</td>\n",
       "      <td>4.129096</td>\n",
       "      <td>-0.24</td>\n",
       "    </tr>\n",
       "    <tr>\n",
       "      <th>25Y</th>\n",
       "      <td>4.11300</td>\n",
       "      <td>4.110348</td>\n",
       "      <td>-0.27</td>\n",
       "    </tr>\n",
       "    <tr>\n",
       "      <th>30Y</th>\n",
       "      <td>4.07724</td>\n",
       "      <td>4.074676</td>\n",
       "      <td>-0.26</td>\n",
       "    </tr>\n",
       "    <tr>\n",
       "      <th>40Y</th>\n",
       "      <td>3.98400</td>\n",
       "      <td>3.982870</td>\n",
       "      <td>-0.11</td>\n",
       "    </tr>\n",
       "    <tr>\n",
       "      <th>50Y</th>\n",
       "      <td>3.88000</td>\n",
       "      <td>3.880726</td>\n",
       "      <td>0.07</td>\n",
       "    </tr>\n",
       "  </tbody>\n",
       "</table>\n",
       "</div>"
      ],
      "text/plain": [
       "     Market Rate  Par Rate  Difference in bps\n",
       "1D       5.19980  5.199800              -0.00\n",
       "1W       5.20140  5.201400               0.00\n",
       "2W       5.20030  5.200300               0.00\n",
       "1M       5.20270  5.202700              -0.00\n",
       "2M       5.20230  5.202300               0.00\n",
       "3M       5.19281  5.192810               0.00\n",
       "4M       5.16560  5.165600              -0.00\n",
       "5M       5.14820  5.148200               0.00\n",
       "6M       5.13420  5.134200               0.00\n",
       "7M       5.11730  5.117300              -0.00\n",
       "8M       5.10130  5.101300               0.00\n",
       "9M       5.08620  5.086200              -0.00\n",
       "10M      5.07010  5.070100               0.00\n",
       "11M      5.05400  5.054000               0.00\n",
       "1Y       5.03940  5.039400               0.00\n",
       "18M      4.87070  4.870700               0.00\n",
       "2Y       4.75483  4.754830               0.00\n",
       "3Y       4.53200  4.532000              -0.00\n",
       "4Y       4.36280  4.362800              -0.00\n",
       "5Y       4.24280  4.242800              -0.00\n",
       "6Y       4.16225  4.162250              -0.00\n",
       "7Y       4.11320  4.113200              -0.00\n",
       "8Y       4.08505  4.085050              -0.00\n",
       "9Y       4.07620  4.076200              -0.00\n",
       "10Y      4.07800  4.078000              -0.00\n",
       "12Y      4.09610  4.095323              -0.08\n",
       "15Y      4.12195  4.120098              -0.19\n",
       "20Y      4.13150  4.129096              -0.24\n",
       "25Y      4.11300  4.110348              -0.27\n",
       "30Y      4.07724  4.074676              -0.26\n",
       "40Y      3.98400  3.982870              -0.11\n",
       "50Y      3.88000  3.880726               0.07"
      ]
     },
     "execution_count": 11,
     "metadata": {},
     "output_type": "execute_result"
    }
   ],
   "source": [
    "# Represent as Dataframe\n",
    "\n",
    "# TODO understand why 10+ shows minor differences. HINT: Interpolation type for missing market quotes\n",
    "\n",
    "round_trip_df = pd.DataFrame(round_trip).T\n",
    "round_trip_df.columns = [\"Market Rate\",\"Par Rate\",\"Difference in bps\"]\n",
    "round_trip_df.style.format({\"Difference in bps\": \"{:.2f}\"})\n",
    "round_trip_df[\"Difference in bps\"] = round_trip_df[\"Difference in bps\"].round(2)\n",
    "round_trip_df"
   ]
  },
  {
   "cell_type": "code",
   "execution_count": 12,
   "metadata": {},
   "outputs": [],
   "source": [
    "# create Bumped model version at 10Y point\n",
    "\n",
    "swaps = []\n",
    "\n",
    "for tenor, px in zip(tenor_list, px_list):\n",
    "    if tenor == \"10Y\":\n",
    "        px += 0.01\n",
    "    swap = OIS(effective_dt= settle_dt,\n",
    "               term_dt_or_tenor= tenor,\n",
    "               fixed_leg_type= swap_type,\n",
    "               fixed_coupon= px / 100,\n",
    "               fixed_freq_type= fixed_freq_type,\n",
    "               fixed_dc_type=fixed_dcc_type,\n",
    "               bd_type= bus_day_type,\n",
    "               float_freq_type=float_freq_type,\n",
    "               float_dc_type=float_dc_type\n",
    "               )\n",
    "    swaps.append(swap)\n",
    "\n",
    "oisCurveObj_bump = OISCurve(\n",
    "    value_dt=value_dt, \n",
    "    ois_swaps= swaps, \n",
    "    interp_type= InterpTypes.LINEAR_ZERO_RATES,\n",
    "    check_refit=False)"
   ]
  },
  {
   "cell_type": "markdown",
   "metadata": {},
   "source": [
    "## Extract Delta"
   ]
  },
  {
   "cell_type": "code",
   "execution_count": 13,
   "metadata": {},
   "outputs": [
    {
     "data": {
      "text/plain": [
       "0.0"
      ]
     },
     "execution_count": 13,
     "metadata": {},
     "output_type": "execute_result"
    }
   ],
   "source": [
    "px = 0.0407800\n",
    "tenor = \"10Y\"\n",
    "\n",
    "swap = OIS(effective_dt= settle_dt,\n",
    "            term_dt_or_tenor= tenor,\n",
    "            fixed_leg_type= swap_type,\n",
    "            fixed_coupon= px,\n",
    "            fixed_freq_type= fixed_freq_type,\n",
    "            fixed_dc_type=fixed_dcc_type,\n",
    "            bd_type= bus_day_type,\n",
    "            float_freq_type=float_freq_type,\n",
    "            float_dc_type=float_dc_type\n",
    "            )\n",
    "par_rate = swap.swap_rate(value_dt, oisCurveObj)*10000\n",
    "\n",
    "swap.value(value_dt,oisCurveObj)"
   ]
  },
  {
   "cell_type": "code",
   "execution_count": 15,
   "metadata": {},
   "outputs": [
    {
     "data": {
      "text/plain": [
       "0.0"
      ]
     },
     "execution_count": 15,
     "metadata": {},
     "output_type": "execute_result"
    }
   ],
   "source": [
    "# Value swap with current model\n",
    "swap.value(value_dt,oisCurveObj)"
   ]
  },
  {
   "cell_type": "code",
   "execution_count": 16,
   "metadata": {},
   "outputs": [
    {
     "data": {
      "text/plain": [
       "np.float64(803.5675315568802)"
      ]
     },
     "execution_count": 16,
     "metadata": {},
     "output_type": "execute_result"
    }
   ],
   "source": [
    "# PV01 using built-in bump() method\n",
    "swap.pv01(value_dt,oisCurveObj_bump)"
   ]
  },
  {
   "cell_type": "code",
   "execution_count": 17,
   "metadata": {},
   "outputs": [
    {
     "data": {
      "text/plain": [
       "803.5675315568224"
      ]
     },
     "execution_count": 17,
     "metadata": {},
     "output_type": "execute_result"
    }
   ],
   "source": [
    "# PV01 using bumped model\n",
    "swap.value(value_dt,oisCurveObj_bump)"
   ]
  },
  {
   "attachments": {
    "BBG_PV01.png": {
     "image/png": "[encoded data removed]"
    }
   },
   "cell_type": "markdown",
   "metadata": {},
   "source": [
    "#### Bloomberg PV01\n",
    "\n",
    "![BBG_PV01.png](attachment:BBG_PV01.png)"
   ]
  },
  {
   "cell_type": "markdown",
   "metadata": {},
   "source": [
    "## Calculate DF Risk using Automatic Differetiation "
   ]
  },
  {
   "cell_type": "code",
   "execution_count": 38,
   "metadata": {},
   "outputs": [
    {
     "data": {
      "text/plain": [
       "Array([  -407.8    ,   -407.8    ,   -407.80063,   -406.6821 ,\n",
       "         -410.03455,   -407.80124,   -407.79874,   -408.91602,\n",
       "         -406.68335, -10406.683  ], dtype=float32)"
      ]
     },
     "execution_count": 38,
     "metadata": {},
     "output_type": "execute_result"
    }
   ],
   "source": [
    "# Sensitiviy to 1bp change in DF\n",
    "\n",
    "delta_df = swap.delta_ad(swap._fixed_leg._payment_dfs)\n",
    "delta_df"
   ]
  },
  {
   "cell_type": "markdown",
   "metadata": {},
   "source": [
    "## Check that automatic differentiation is correct"
   ]
  },
  {
   "cell_type": "markdown",
   "metadata": {},
   "source": [
    "### Fixed Leg"
   ]
  },
  {
   "cell_type": "code",
   "execution_count": 40,
   "metadata": {},
   "outputs": [],
   "source": [
    "# List of relevant discount factors\n",
    "dfs_list = swap._fixed_leg._payment_dfs"
   ]
  },
  {
   "cell_type": "code",
   "execution_count": 51,
   "metadata": {},
   "outputs": [],
   "source": [
    "# Lets bump the 1Y point\n",
    "dfs_list_bumped = copy.deepcopy(dfs_list)\n",
    "dfs_list_bumped[0] += 0.01"
   ]
  },
  {
   "cell_type": "code",
   "execution_count": 42,
   "metadata": {},
   "outputs": [
    {
     "name": "stdout",
     "output_type": "stream",
     "text": [
      "Base valuation is -327694.83936889574\n",
      "Bumped valuation is -328102.6393688958\n"
     ]
    }
   ],
   "source": [
    "value_base_ad = swap._fixed_leg.value_ad(dfs_list)\n",
    "value_bumped_ad = swap._fixed_leg.value_ad(dfs_list_bumped)\n",
    "print(f\"Base valuation is {value_base_ad}\")\n",
    "print(f\"Bumped valuation is {value_bumped_ad}\")"
   ]
  },
  {
   "cell_type": "code",
   "execution_count": 48,
   "metadata": {},
   "outputs": [
    {
     "data": {
      "text/plain": [
       "-407.80000000004657"
      ]
     },
     "execution_count": 48,
     "metadata": {},
     "output_type": "execute_result"
    }
   ],
   "source": [
    "# Difference between base and bumped\n",
    "value_bumped_ad - value_base_ad"
   ]
  },
  {
   "cell_type": "code",
   "execution_count": 49,
   "metadata": {},
   "outputs": [],
   "source": [
    "sensies_function = grad(swap._fixed_leg.value_ad)\n",
    "delta_df_list = sensies_function(dfs_list)\n",
    "delta_df_divided = jnp.array(delta_df_list) / 100 # Scale down to 1bp"
   ]
  },
  {
   "cell_type": "code",
   "execution_count": 50,
   "metadata": {},
   "outputs": [
    {
     "data": {
      "text/plain": [
       "Array(-407.8, dtype=float32)"
      ]
     },
     "execution_count": 50,
     "metadata": {},
     "output_type": "execute_result"
    }
   ],
   "source": [
    "# Expected Delta \n",
    "delta_df_divided[0]"
   ]
  },
  {
   "cell_type": "markdown",
   "metadata": {},
   "source": [
    "Success! "
   ]
  }
 ],
 "metadata": {
  "kernelspec": {
   "display_name": "cavourvenv",
   "language": "python",
   "name": "python3"
  },
  "language_info": {
   "codemirror_mode": {
    "name": "ipython",
    "version": 3
   },
   "file_extension": ".py",
   "mimetype": "text/x-python",
   "name": "python",
   "nbconvert_exporter": "python",
   "pygments_lexer": "ipython3",
   "version": "3.11.9"
  }
 },
 "nbformat": 4,
 "nbformat_minor": 2
}
